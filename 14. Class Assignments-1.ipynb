{
 "cells": [
  {
   "cell_type": "code",
   "execution_count": 1,
   "metadata": {},
   "outputs": [],
   "source": [
    "# Create a class and function, and list out the items in the list"
   ]
  },
  {
   "cell_type": "code",
   "execution_count": 2,
   "metadata": {},
   "outputs": [],
   "source": [
    "class SubfieldsInAI():\n",
    "    def Subfields():\n",
    "        print(\"Sub-fields in AI are:\")\n",
    "        lists=[\"Machine Learning\", \"Natural Learning\", \"Vision\", \"Robotics\", \"Speed Processing\", \"Natural Language Processing\"]\n",
    "        for temp in lists:\n",
    "            print(temp)\n",
    "            message=temp "
   ]
  },
  {
   "cell_type": "code",
   "execution_count": 3,
   "metadata": {},
   "outputs": [
    {
     "name": "stdout",
     "output_type": "stream",
     "text": [
      "Sub-fields in AI are:\n",
      "Machine Learning\n",
      "Natural Learning\n",
      "Vision\n",
      "Robotics\n",
      "Speed Processing\n",
      "Natural Language Processing\n"
     ]
    }
   ],
   "source": [
    "SubfieldsInAI.Subfields()"
   ]
  },
  {
   "cell_type": "code",
   "execution_count": 4,
   "metadata": {},
   "outputs": [],
   "source": [
    "class OddEven():\n",
    "    def OddEven():\n",
    "        num=int(input(\"Enter a number: \"))\n",
    "        if((num%2)==1):\n",
    "            print(num,\"is odd Number\")\n",
    "            message=\"is odd Number\"\n",
    "        else:\n",
    "            print(num,\"is Even Number\")\n",
    "            message=\"Even Number\""
   ]
  },
  {
   "cell_type": "code",
   "execution_count": 5,
   "metadata": {},
   "outputs": [
    {
     "name": "stdout",
     "output_type": "stream",
     "text": [
      "Enter a number: 52452\n",
      "52452 is Even Number\n"
     ]
    }
   ],
   "source": [
    "OddEven.OddEven()"
   ]
  },
  {
   "cell_type": "code",
   "execution_count": 6,
   "metadata": {},
   "outputs": [],
   "source": [
    "class EligibilityForMarriage():\n",
    "    def Eligible():\n",
    "        gender=input(\"Your Gender:\")\n",
    "        age=int(input(\"Your Age:\"))\n",
    "        if(age<22):\n",
    "            print(\"NOT ELIGIBLE\")\n",
    "        else:\n",
    "            print(\"ELIGIBLE\")\n",
    "            message=\"ELIGIBLE\""
   ]
  },
  {
   "cell_type": "code",
   "execution_count": 7,
   "metadata": {
    "scrolled": true
   },
   "outputs": [
    {
     "name": "stdout",
     "output_type": "stream",
     "text": [
      "Your Gender:Male\n",
      "Your Age:20\n",
      "NOT ELIGIBLE\n"
     ]
    }
   ],
   "source": [
    "EligibilityForMarriage.Eligible()"
   ]
  },
  {
   "cell_type": "code",
   "execution_count": 13,
   "metadata": {},
   "outputs": [],
   "source": [
    "class FindPercent():\n",
    "    def Percentage():\n",
    "        Subject1=98\n",
    "        Subject2=87\n",
    "        Subject3=95\n",
    "        Subject4=95\n",
    "        Subject5=93\n",
    "        print(\"Subject1= \",Subject1)\n",
    "        print(\"Subject2= \",Subject2)\n",
    "        print(\"Subject3= \",Subject3)\n",
    "        print(\"Subject4= \",Subject4)\n",
    "        print(\"Subject5= \",Subject5)\n",
    "        add=Subject1+Subject2+Subject3+Subject4+Subject5\n",
    "        print(\"Total : \",add)\n",
    "        percentage=(add/5)\n",
    "        formatted_percentage=\"{:.20f}\".format(percentage)\n",
    "        print(\"Percentage :\",formatted_percentage)"
   ]
  },
  {
   "cell_type": "code",
   "execution_count": 15,
   "metadata": {},
   "outputs": [
    {
     "name": "stdout",
     "output_type": "stream",
     "text": [
      "Subject1=  98\n",
      "Subject2=  87\n",
      "Subject3=  95\n",
      "Subject4=  95\n",
      "Subject5=  93\n",
      "Total :  468\n",
      "Percentage : 93.59999999999999431566\n"
     ]
    }
   ],
   "source": [
    "FindPercent.Percentage()"
   ]
  },
  {
   "cell_type": "code",
   "execution_count": 8,
   "metadata": {},
   "outputs": [],
   "source": [
    "class triangle():\n",
    "    def triangle():\n",
    "        Height=32\n",
    "        Breadth=34\n",
    "        value=(Height*Breadth)/2\n",
    "        print(\"Height:\",Height)\n",
    "        print(\"Breadth:\",Breadth)\n",
    "        print(\"Area formula: (Height*Breadth)/2\")\n",
    "        print(\"Area of Triangle: \",value)\n",
    "        Height1=2\n",
    "        Height2=4\n",
    "        Breadth2=4\n",
    "        value2=(Height1+Height2+Breadth2)\n",
    "        print(\"Height1:\",Height1)\n",
    "        print(\"Height2:\",Height2)\n",
    "        print(\"Breadth:\",Breadth2)\n",
    "        print(\"Perimeter formula: Height1+Height2+Breadth\")\n",
    "        print(\"Permeter of Triangle: \",value2)"
   ]
  },
  {
   "cell_type": "code",
   "execution_count": 9,
   "metadata": {},
   "outputs": [
    {
     "name": "stdout",
     "output_type": "stream",
     "text": [
      "Height: 32\n",
      "Breadth: 34\n",
      "Area formula: (Height*Breadth)/2\n",
      "Area of Triangle:  544.0\n",
      "Height1: 2\n",
      "Height2: 4\n",
      "Breadth: 4\n",
      "Perimeter formula: Height1+Height2+Breadth\n",
      "Permeter of Triangle:  10\n"
     ]
    }
   ],
   "source": [
    "triangle.triangle()"
   ]
  },
  {
   "cell_type": "code",
   "execution_count": null,
   "metadata": {},
   "outputs": [],
   "source": []
  }
 ],
 "metadata": {
  "kernelspec": {
   "display_name": "Python 3",
   "language": "python",
   "name": "python3"
  },
  "language_info": {
   "codemirror_mode": {
    "name": "ipython",
    "version": 3
   },
   "file_extension": ".py",
   "mimetype": "text/x-python",
   "name": "python",
   "nbconvert_exporter": "python",
   "pygments_lexer": "ipython3",
   "version": "3.7.4"
  }
 },
 "nbformat": 4,
 "nbformat_minor": 2
}
